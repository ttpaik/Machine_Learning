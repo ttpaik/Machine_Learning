{
 "cells": [
  {
   "cell_type": "markdown",
   "metadata": {},
   "source": [
    "# Homework 1: Probability Review and Linear Regression\n",
    "by Rachel Manzelli and Natasha Frumkin"
   ]
  },
  {
   "cell_type": "markdown",
   "metadata": {},
   "source": [
    "## Setup"
   ]
  },
  {
   "cell_type": "markdown",
   "metadata": {},
   "source": [
    "To run and solve this assignment, you must have access to a working Jupyter Notebook installation. We recommend Google Colab. If you are already familiar with Jupyter and have your own installation, you may use it; however, you will have to tweak Colab-specific commands we've entered here (for example, file uploads).\n",
    "\n",
    "To use Google Colab:\n",
    "\n",
    "1. Download this `ipynb` file.\n",
    "2. Navigate to https://colab.research.google.com/ and select `Upload` in the pop-up window.\n",
    "3. Upload this file. It will then open in Colab.\n",
    "4. Now, upload the dataset associated with this assignment to the Colab runtime. On the left side of the screen, click on \"Files\" (denoted by a **folder icon**) and then click on \"Upload to session storage\" (denoted by a **file icon with an up arrow**). Select the dataset (`rockstrength.csv`).\n",
    "\n",
    "The below statements assume that you have already followed these instructions. If you need help with Python syntax, NumPy, or Matplotlib, you might find Week 1 discussion material useful.\n",
    "\n",
    "To run code in a cell or to render Markdown+LaTeX press Ctrl+Enter or \"`Run`\" button above. To edit any code or text cell, double-click on its content. Put your solution into boxes marked with **`[double click here to add a solution]`** and press Ctrl+Enter to render text. You can add cells via `+` sign at the top left corner.\n",
    "\n",
    "**Submission instructions**: please upload your completed solution file as well as a scan of any handwritten answers to Gradescope by the due date (see Schedule)."
   ]
  },
  {
   "cell_type": "markdown",
   "metadata": {},
   "source": [
    "## Probability Review"
   ]
  },
  {
   "cell_type": "markdown",
   "metadata": {},
   "source": [
    "### 1. Conditional Distributions"
   ]
  },
  {
   "cell_type": "markdown",
   "metadata": {},
   "source": [
    "Sarah sells earrings in 3 different styles, `flower`, `star`, and `circle`. She sells them in set sizes of 1 or 2, depending on how many ears the customer has pierced. They are pre-packaged (e.g. she cannot separate one set of 2 earrings into two sets of 1 earring). She has different amounts of each style and set size, and wants to better understand the underlying distribution of her inventory.\n",
    "\n",
    "Given the following joint probability distribution table for her two random variables $A$ (style; possible values `flower`, `star`, and `circle`) and $B$ (set size; possible values $1$ and $2$): \n",
    "\n",
    "|               |               |       |  $A$   |   |\n",
    "| -- |--| -----| -----|----- |\n",
    "|               |                        |  $flower$    | $star$     |  $circle$    |\n",
    "| **$B$**      | $1$      |   $0.16$ |   $?$ |    $0.08$ |\n",
    "|  | $2$      |    $0.37$ |    $0.06$ |    $0.21$ |\n",
    "\n",
    "\n",
    "**a.** What is the value of the missing entry (marked with '$?$')?\n",
    "\n",
    "**b.** What is $p(B = 1 | A = flower)$?\n",
    "\n",
    "**c.** What is $p(B = 2)$?\n",
    "\n",
    "**d.** What is $p(A = circle | B = 2)$?"
   ]
  },
  {
   "cell_type": "markdown",
   "metadata": {},
   "source": [
    "**Solution**\n",
    "\n",
    "**a.** The entire table must sum to 1, so the missing value $?$ is 0.12.\n",
    "\n",
    "**b.** $P(B=1|A=flower) = \\frac{P(B=1,A=flower)}{P(A=flower)} = \\frac{P(B=1,A=flower)}{\\sum_{b}^{} P(B=b,A=flower) } = \\frac{0.16}{0.53} $\n",
    "\n",
    "**c.** $P(B=2) = \\sum_{a}^{} P(A=a,B=2) = 0.64 $\n",
    "\n",
    "**d.** $P(A=circle|B=2) = \\frac{P(A=circle,B=2)}{P(B=2)} = \\frac{P(A=circle,B=2)}{\\sum_{a}^{} P(A=a,B=2) } = \\frac{0.21}{0.64} $"
   ]
  },
  {
   "cell_type": "markdown",
   "metadata": {},
   "source": [
    "### 2. Expectation and Covariance"
   ]
  },
  {
   "cell_type": "markdown",
   "metadata": {},
   "source": [
    "We are given $X \\sim N(\\mu,\\sigma^2)$ and $Y \\sim Poisson(\\lambda)$ sampled IID from known distributions. We define: \n",
    "\n",
    "$$A = 2X+Y$$\n",
    "\n",
    "$$B = X-2Y$$\n",
    "\n",
    "**a.** What is $E[A]$ and $E[B]$?\n",
    "\n",
    "**b.** What is $var(A)$ and $var(B)$? Helpful identity: $E[Y^2] = \\lambda^2 + \\lambda$\n",
    "\n",
    "**c.** What is covariance and what is correlation? Explain in your own words.\n",
    "\n",
    "**d.** What is the covariance of $A$ and $B$?\n",
    "\n",
    "**e.** Define independence of two random variables. Are $A$ and $B$ independent? Explain."
   ]
  },
  {
   "cell_type": "markdown",
   "metadata": {},
   "source": [
    "**Solution**\n",
    "\n",
    "**a.** \n",
    "\n",
    "$E[A] = E[2X + Y] = 2E[X] + E[Y] = 2\\mu + \\lambda$\n",
    "\n",
    "$E[B] = E[X - 2Y] = E[X] - 2E[Y] = \\mu - 2\\lambda$\n",
    "\n",
    "**b.** \n",
    "\n",
    "To solve for $var(A)$ and $var(B)$, we will need $E[X^2]$ and $E[Y^2]$:\n",
    "\n",
    "$E[X^2] = var(X) + (E[X])^2 = \\sigma^2 + \\mu^2$\n",
    "\n",
    "$E[Y^2] = \\lambda^2 + \\lambda$\n",
    "\n",
    "$\\mathbf{var(A)}$\n",
    "\n",
    "$var(A) = E[A^2] - (E[A])^2$\n",
    "\n",
    "$var(A) = E[(2X+Y)(2X+Y)] - (E[2X+Y])^2$\n",
    "\n",
    "Simplify $E[(2X+Y)(2X+Y)]$:\n",
    "\n",
    "$E[(2X+Y)(2X+Y)] = E[4X^2 + 4XY + Y^2] = 4E[X^2] + 4E[X]E[Y] + E[Y^2] = 4(\\sigma^2 + \\mu^2) + 4\\mu\\lambda + \\lambda^2 + \\lambda$\n",
    "\n",
    "Use $E[A]$ from the previous part to get the final answer:\n",
    "\n",
    "$var(A) = 4(\\sigma^2 + \\mu^2) + 4\\mu\\lambda + \\lambda^2 + \\lambda - (2\\mu + \\lambda)^2$\n",
    "\n",
    "$var(A) = 4\\sigma^2 + \\lambda$ (simplify)\n",
    "\n",
    "$\\mathbf{var(B)}$\n",
    "\n",
    "$var(B) = E[B^2] - (E[B])^2$\n",
    "\n",
    "$var(B) = E[(X-2Y)(X-2Y)] - (E[X-2Y])^2$\n",
    "\n",
    "Simplify $E[(X-2Y)(X-2Y)]$:\n",
    "\n",
    "$E[(X-2Y)(X-2Y)] = E[X^2 - 4YX + 4Y^2] = E[X^2] - 4E[Y]E[X] + 4E[Y^2] = \\sigma^2 + \\mu^2 - 4\\lambda\\mu + 4(\\lambda^2 + \\lambda)$\n",
    "\n",
    "Use $E[B]$ from the previous part to get the final answer:\n",
    "\n",
    "$var(B) = \\sigma^2 + \\mu^2 - 4\\lambda\\mu + 4(\\lambda^2 + \\lambda) - (\\mu - 2\\lambda)^2$\n",
    "\n",
    "$var(B) = \\sigma^2 + 4\\lambda$ (simplify)\n",
    "\n",
    "**c.** \n",
    "\n",
    "*Covariance*, $E[(X-\\mu_x)(Y-\\mu_y)]$, is a measure of how the combined average of $X$ and $Y$ differs from the piecewise average. This measures the combined variance of $X$ and $Y$. \n",
    "\n",
    "*Correlation* is a measure of how two random variables' distributions are related. A positive correlation indicates that the larger values of $X$ correspond to the larger values of $Y$, while a negative correlation indicates that the larger values of $X$ correspond to the smaller values of $Y$.\n",
    "\n",
    "**d.** \n",
    "\n",
    "$cov(A, B) = E[AB] - E[A]E[B]$\n",
    "\n",
    "Simplify $E[AB]$:\n",
    "\n",
    "$E[AB] = E[(2X+Y)(X-2Y)] = E[2X^2 - 3YX - 2Y^2] = 2E[X^2] - 3E[Y]E[X] - 2E[Y^2]$ ($X, Y$ independent) $= 2(\\sigma^2 + \\mu^2) - 3\\lambda\\mu - 2(\\lambda^2 + \\lambda)$\n",
    "\n",
    "Use $E[A]$ and $E[B]$ from part **a** to get the final answer: \n",
    "\n",
    "$cov(A, B) = 2(\\sigma^2 + \\mu^2) - 3\\lambda\\mu - 2(\\lambda^2 + \\lambda) - (2\\mu + \\lambda)(\\mu - 2\\lambda)$\n",
    "\n",
    "$cov(A, B) = 2\\sigma^2 - 2\\lambda$ (simplify)\n",
    "\n",
    "**e.** Given random variables $X$ and $Y$, they are independent $iff$ $P(X, Y) = P(X)P(Y), cov(X, Y) = 0$. $cov(A, B)$ is nonzero, so $A$ and $B$ are not independent."
   ]
  },
  {
   "cell_type": "markdown",
   "metadata": {},
   "source": [
    "### 3. Closed-Form Maximum Likelihood"
   ]
  },
  {
   "cell_type": "markdown",
   "metadata": {},
   "source": [
    "Assume that we are given $n$ IID samples $(x_1,...,x_n)$ from each $P(X | \\theta)$ given below. Compute the maximum likelihood estimates (MLEs) for the parameter $\\theta$ of the given distributions. **Show your work, and explain your steps.**\n",
    "\n",
    "**a.** $P(X | \\theta) = Exp(\\theta) = \\theta e^{-\\theta x}, x \\geq 0$\n",
    "\n",
    "**b.** $P(X | \\theta) = Uniform(0, \\theta) = \\frac{1}{\\theta}, 0 < x < \\theta$ (*Hint*: drawing the distribution may help you.)\n",
    "\n",
    "**c.** $P(X | \\theta) = \\frac{2x}{\\theta^2} e ^{\\frac{-x^2}{\\theta^2}}, x \\geq 0$\n",
    "\n",
    "**d.** Suppose the prior $P(\\theta)$ is $Uniform(a, b)$. What is the MAP estimate for the distribution in part **a**?"
   ]
  },
  {
   "cell_type": "markdown",
   "metadata": {},
   "source": [
    "**Solution**\n",
    "\n",
    "**a.** \n",
    "\n",
    "$MLE(\\theta) = \\underset{\\theta}{\\operatorname{argmax}} P(x_1,...x_n|\\theta)$\n",
    "\n",
    "$MLE(\\theta) = \\underset{\\theta}{\\operatorname{argmax}} \\prod_{i=1}^{n}P(x_i|\\theta)$ (since $x_i$ are IID)\n",
    "\n",
    "$MLE(\\theta) = \\underset{\\theta}{\\operatorname{argmax}} \\prod_{i=1}^{n}\\theta e^{-\\theta x_i}, x_i \\geq 0 \\forall x_i \\in \\{x_1, .., x_n\\}$\n",
    "\n",
    "$MLE(\\theta) = \\underset{\\theta}{\\operatorname{argmax}} \\prod_{i=1}^{n}\\theta * \\prod_{i=1}^{n}e^{-\\theta x_i}$\n",
    "\n",
    "$MLE(\\theta) = \\underset{\\theta}{\\operatorname{argmax}} \\theta^n * e^{-\\theta \\sum_{i=1}^{n}x_i}$ (since $e^{a}e^{b} = e^{a+b}$). This is the likelihood function.\n",
    "\n",
    "$MLE(\\theta) = \\underset{\\theta}{\\operatorname{argmax}} log(\\theta^n * e^{-\\theta \\sum_{i=1}^{n}x_i})$ (take the $log$ to obtain the log-likelihood function)\n",
    "\n",
    "$MLE(\\theta) = \\underset{\\theta}{\\operatorname{argmax}} nlog(\\theta) - \\theta \\sum_{i=1}^{n}x_i$ (simplify using $log$ properties). This is the log-likelihood function.\n",
    "\n",
    "$\\frac{d}{d\\theta}[nlog(\\theta) - \\theta \\sum_{i=1}^{n}x_i] = 0$ (take the derivative w.r.t $\\theta$ and set to 0)\n",
    "\n",
    "$\\frac{n}{\\theta} - \\sum_{i=1}^{n}x_i = 0$ (simplify)\n",
    "\n",
    "$\\hat{\\theta}_{ML} = \\frac{n}{\\sum_{i=1}^{n}x_i}$ (isolate $\\theta$)\n",
    "\n",
    "**b.**\n",
    "\n",
    "$MLE(\\theta) = \\underset{\\theta}{\\operatorname{argmax}} P(x_1,...x_n|\\theta)$\n",
    "\n",
    "$MLE(\\theta) = \\underset{\\theta}{\\operatorname{argmax}} \\prod_{i=1}^{n}P(x_i|\\theta)$ (since $x_i$ are IID)\n",
    "\n",
    "$MLE(\\theta) = \\underset{\\theta}{\\operatorname{argmax}} \\prod_{i=1}^{n}\\frac{1}{\\theta}, 0 < x_i < \\theta \\forall x_i \\in \\{x_1, .., x_n\\}$\n",
    "\n",
    "$MLE(\\theta) = \\underset{\\theta}{\\operatorname{argmax}} \\frac{1}{\\theta^n}, 0 < x_1, ..., x_n < \\theta $ This is the likelihood function.\n",
    "\n",
    "This function is monotonically decreasing. In order to maximize it, we need to choose the minimum possible value of $\\theta$.\n",
    "\n",
    "We know from our bounds that $\\theta \\geq max(x_1, ..., x_n)$, since $\\theta$ defines the rightmost limit of the distribution. Thus, the smallest possible value of $\\theta$ is $max(x_1, ..., x_n)$. (Visualizing the $Uniform(0,\\theta)$ distribution may help make sense of this.)\n",
    "\n",
    "$\\hat{\\theta}_{ML} = max(x_1, ..., x_n)$\n",
    "\n",
    "**c.**\n",
    "\n",
    "$MLE(\\theta) = \\underset{\\theta}{\\operatorname{argmax}} P(x_1,...x_n|\\theta)$\n",
    "\n",
    "$MLE(\\theta) = \\underset{\\theta}{\\operatorname{argmax}} \\prod_{i=1}^{n}P(x_i|\\theta)$ (since $x_i$ are IID)\n",
    "\n",
    "$MLE(\\theta) = \\underset{\\theta}{\\operatorname{argmax}} \\prod_{i=1}^{n} \\frac{2x_i}{\\theta^2} e ^{\\frac{-x_i^2}{\\theta^2}}, x_i \\geq 0 \\forall x_i \\in \\{x_1, .., x_n\\}$ This is the likelihood function.\n",
    "\n",
    "$MLE(\\theta) = \\underset{\\theta}{\\operatorname{argmax}} log(\\prod_{i=1}^{n} \\frac{2x_i}{\\theta^2} e ^{\\frac{-x_i^2}{\\theta^2}})$ (take the $log$ to obtain the log-likelihood function)\n",
    "\n",
    "$MLE(\\theta) = \\underset{\\theta}{\\operatorname{argmax}} \\sum_{i=1}^{n} (log(2x_i) - log(\\theta^2) + log(e ^{\\frac{-x_i^2}{\\theta^2}}))$ ($log$ product rule)\n",
    "\n",
    "$MLE(\\theta) = \\underset{\\theta}{\\operatorname{argmax}} \\sum_{i=1}^{n} (log(2x_i) - log(\\theta^2) - {\\frac{x_i^2}{\\theta^2}}))$ ($log e^x = x$)\n",
    "\n",
    "$MLE(\\theta) = \\underset{\\theta}{\\operatorname{argmax}} \\sum_{i=1}^{n} (-log(\\theta^2) - {\\frac{x_i^2}{\\theta^2}}))$ (drop terms not dependent on $\\theta$)\n",
    "\n",
    "$MLE(\\theta) = \\underset{\\theta}{\\operatorname{argmax}} -2nlog\\theta - \\frac{1}{\\theta^2}\\sum_{i=1}^{n}x_i^2$ (simplify summation) This is the log-likelihood function.\n",
    "\n",
    "$\\frac{d}{d\\theta}[-2nlog\\theta - \\frac{1}{\\theta^2}\\sum_{i=1}^{n}x_i^2] = 0$ (take the derivative w.r.t $\\theta$ and set to 0)\n",
    "\n",
    "$\\frac{-2n}{\\theta} - (\\sum_{i=1}^{n}x_i^2)(\\frac{-2}{\\theta^3}) = 0$\n",
    "\n",
    "$2n = \\sum_{i=1}^{n}x_i^2(\\frac{2}{\\theta^2})$ (simplify)\n",
    "\n",
    "$\\theta^2 = \\frac{1}{n}\\sum_{i=1}^{n}x_i^2$ (isolate $\\theta$)\n",
    "\n",
    "$\\hat{\\theta}_{ML} = \\sqrt{\\frac{\\sum_{i=1}^{n}x_i^2}{n}}$\n",
    "\n",
    "**d.**\n",
    "\n",
    "From $MLE$:\n",
    "\n",
    "$MLE(\\theta) = \\underset{\\theta}{\\operatorname{argmax}} P(x_1,...x_n|\\theta)$\n",
    "\n",
    "$MLE(\\theta) = \\underset{\\theta}{\\operatorname{argmax}} \\frac{P(\\theta|X)P(X)}{P(\\theta)} \\propto \\frac{P(\\theta|X)}{P(\\theta)}$ (removing terms that don't depend on $\\theta$)\n",
    "\n",
    "Since $P(\\theta)$ is constant over all $\\theta$  (the prior is a $Uniform$ distribution) we can remove it, since it doesn't affect the maximization:\n",
    "\n",
    "$MLE(\\theta) = \\underset{\\theta}{\\operatorname{argmax}} P(\\theta|X) = MAP(\\theta) = \\frac{n}{\\sum_{i=1}^{n}x_i} $\n",
    "\n",
    "From $MAP$:\n",
    "\n",
    "$MAP(\\theta) = \\underset{\\theta}{\\operatorname{argmax}} P(\\theta|X)$\n",
    "\n",
    "$MAP(\\theta) = \\underset{\\theta}{\\operatorname{argmax}} \\frac{P(X|\\theta)P(\\theta)}{P(X)} \\propto P(X|\\theta)P(\\theta) $ (removing terms that don't depend on $\\theta$)\n",
    "\n",
    "Since $P(\\theta)$ is constant over all $\\theta$  (the prior is a $Uniform$ distribution) we can remove it, since it doesn't affect the maximization:\n",
    "\n",
    "$MAP(\\theta) = \\underset{\\theta}{\\operatorname{argmax}} P(X|\\theta) = MLE(\\theta) = \\frac{n}{\\sum_{i=1}^{n}x_i}$"
   ]
  },
  {
   "cell_type": "markdown",
   "metadata": {},
   "source": [
    "## ML Basics with Python\n",
    "The following section will walk you through performing basic ML operations with Python, including loading, splitting, and observing a dataset using `pandas`, `sklearn`, and `matplotlib`, as well as running linear regression over features of a dataset using `sklearn`'s built-in methods."
   ]
  },
  {
   "cell_type": "markdown",
   "metadata": {},
   "source": [
    "### 4. Data Visualization with `pandas` and `matplotlib`"
   ]
  },
  {
   "cell_type": "markdown",
   "metadata": {},
   "source": [
    "In the following set of problems, we'll look at how we can use different features of rock specimens to model Uniaxial Compressive Strength (UCS), the maximum axial compressive stress that a right-cylindrical sample of material can withstand before failing."
   ]
  },
  {
   "cell_type": "markdown",
   "metadata": {},
   "source": [
    "Features of this dataset:\n",
    "- % Quartz (`quartz`)\n",
    "- % Plagaoclase (`plag`)\n",
    "- % K.feldspar (`kfds`)\n",
    "- % Hornblende (`hb`)\n",
    "- Grain size (mm) (`gs`)\n",
    "- Grain area (mm^2) (`ga`)\n",
    "- Shape Factor (`sf`)\n",
    "- Aspect Ratio (`ar`)\n",
    "- Uniaxial Compressive Strength (`UCS`)"
   ]
  },
  {
   "cell_type": "markdown",
   "metadata": {},
   "source": [
    "#### Load the dataset and look at the features\n",
    "First, we'll use `pandas` to load the dataset and look at some samples of rock specimens and their properties."
   ]
  },
  {
   "cell_type": "code",
   "execution_count": 1,
   "metadata": {},
   "outputs": [
    {
     "data": {
      "text/html": [
       "<div>\n",
       "<style scoped>\n",
       "    .dataframe tbody tr th:only-of-type {\n",
       "        vertical-align: middle;\n",
       "    }\n",
       "\n",
       "    .dataframe tbody tr th {\n",
       "        vertical-align: top;\n",
       "    }\n",
       "\n",
       "    .dataframe thead th {\n",
       "        text-align: right;\n",
       "    }\n",
       "</style>\n",
       "<table border=\"1\" class=\"dataframe\">\n",
       "  <thead>\n",
       "    <tr style=\"text-align: right;\">\n",
       "      <th></th>\n",
       "      <th>sample_id</th>\n",
       "      <th>UCS</th>\n",
       "      <th>quartz</th>\n",
       "      <th>plag</th>\n",
       "      <th>kfds</th>\n",
       "      <th>hb</th>\n",
       "      <th>gs</th>\n",
       "      <th>ga</th>\n",
       "      <th>sf</th>\n",
       "      <th>ar</th>\n",
       "    </tr>\n",
       "  </thead>\n",
       "  <tbody>\n",
       "    <tr>\n",
       "      <th>0</th>\n",
       "      <td>1</td>\n",
       "      <td>100.6</td>\n",
       "      <td>40.3</td>\n",
       "      <td>9.98</td>\n",
       "      <td>17.01</td>\n",
       "      <td>21.57</td>\n",
       "      <td>0.031</td>\n",
       "      <td>754.4</td>\n",
       "      <td>0.594</td>\n",
       "      <td>0.630</td>\n",
       "    </tr>\n",
       "    <tr>\n",
       "      <th>1</th>\n",
       "      <td>2</td>\n",
       "      <td>112.0</td>\n",
       "      <td>47.1</td>\n",
       "      <td>8.50</td>\n",
       "      <td>15.00</td>\n",
       "      <td>23.00</td>\n",
       "      <td>0.025</td>\n",
       "      <td>490.6</td>\n",
       "      <td>0.612</td>\n",
       "      <td>0.612</td>\n",
       "    </tr>\n",
       "    <tr>\n",
       "      <th>2</th>\n",
       "      <td>3</td>\n",
       "      <td>117.5</td>\n",
       "      <td>45.4</td>\n",
       "      <td>9.10</td>\n",
       "      <td>16.20</td>\n",
       "      <td>24.00</td>\n",
       "      <td>0.022</td>\n",
       "      <td>379.9</td>\n",
       "      <td>0.628</td>\n",
       "      <td>0.628</td>\n",
       "    </tr>\n",
       "    <tr>\n",
       "      <th>3</th>\n",
       "      <td>4</td>\n",
       "      <td>100.9</td>\n",
       "      <td>41.3</td>\n",
       "      <td>7.72</td>\n",
       "      <td>11.02</td>\n",
       "      <td>18.86</td>\n",
       "      <td>0.044</td>\n",
       "      <td>1519.8</td>\n",
       "      <td>0.571</td>\n",
       "      <td>0.667</td>\n",
       "    </tr>\n",
       "    <tr>\n",
       "      <th>4</th>\n",
       "      <td>5</td>\n",
       "      <td>94.5</td>\n",
       "      <td>33.8</td>\n",
       "      <td>4.10</td>\n",
       "      <td>14.00</td>\n",
       "      <td>16.00</td>\n",
       "      <td>0.043</td>\n",
       "      <td>1451.5</td>\n",
       "      <td>0.575</td>\n",
       "      <td>0.662</td>\n",
       "    </tr>\n",
       "  </tbody>\n",
       "</table>\n",
       "</div>"
      ],
      "text/plain": [
       "   sample_id    UCS  quartz  plag   kfds     hb     gs      ga     sf     ar\n",
       "0          1  100.6    40.3  9.98  17.01  21.57  0.031   754.4  0.594  0.630\n",
       "1          2  112.0    47.1  8.50  15.00  23.00  0.025   490.6  0.612  0.612\n",
       "2          3  117.5    45.4  9.10  16.20  24.00  0.022   379.9  0.628  0.628\n",
       "3          4  100.9    41.3  7.72  11.02  18.86  0.044  1519.8  0.571  0.667\n",
       "4          5   94.5    33.8  4.10  14.00  16.00  0.043  1451.5  0.575  0.662"
      ]
     },
     "execution_count": 1,
     "metadata": {},
     "output_type": "execute_result"
    }
   ],
   "source": [
    "import pandas as pd\n",
    "rock_strength = pd.read_csv(\"rockstrength.csv\")\n",
    "rock_strength.head()"
   ]
  },
  {
   "cell_type": "markdown",
   "metadata": {},
   "source": [
    "#### 4.a. Visualize the features against the variable we'd like to be able to model (`UCS`)\n",
    "We're going to model `UCS` using a linear regression model. To do that, we'd like to visualize the data and choose features that are well-suited for a linear model. Use `matplotlib` to plot each feature in the `rock_features` list below against the target, `UCS`."
   ]
  },
  {
   "cell_type": "code",
   "execution_count": 2,
   "metadata": {},
   "outputs": [
    {
     "data": {
      "image/png": "[encoded data removed]",
      "text/plain": [
       "<Figure size 2016x504 with 8 Axes>"
      ]
     },
     "metadata": {
      "needs_background": "light"
     },
     "output_type": "display_data"
    }
   ],
   "source": [
    "import matplotlib.pyplot as plt\n",
    "rock_features = ['quartz', 'plag', 'kfds', 'hb', 'gs', 'ga', 'sf', 'ar']\n",
    "target = rock_strength['UCS']\n",
    "\n",
    "# Create a figure to hold our plots\n",
    "plt.figure(figsize=(28, 7))\n",
    "for i, feature in enumerate(rock_features):\n",
    "    # Create subplots for each feature within this figure\n",
    "    plt.subplot(1, len(rock_features) , i+1)\n",
    "    ### ADD CODE HERE:\n",
    "    ### Set `x` (The feature we want to plot)\n",
    "    ### and `y` (The value that we want to estimate)\n",
    "    x = rock_strength[feature]\n",
    "    y = target\n",
    "    ###\n",
    "    plt.scatter(x, y, marker='o')\n",
    "    plt.title(feature)\n",
    "    plt.xlabel(feature)\n",
    "    plt.ylabel('UCS')"
   ]
  },
  {
   "cell_type": "markdown",
   "metadata": {},
   "source": [
    "#### 4.b. Select the best feature for a linear regression model\n",
    "Which feature looks like it would work well for fitting a linear regression model? Pick just one, and assign it to the variable called `rock_strength_features`. *There is more than one correct answer.*"
   ]
  },
  {
   "cell_type": "code",
   "execution_count": 3,
   "metadata": {},
   "outputs": [],
   "source": [
    "### ADD CODE HERE: \n",
    "### Set `rock_strength_features` (A feature to use to fit our linear regression model)\n",
    "rock_strength_features = rock_strength['ga']\n",
    "###\n",
    "rock_strength_labels = rock_strength['UCS']"
   ]
  },
  {
   "cell_type": "markdown",
   "metadata": {},
   "source": [
    "***Briefly explain your rationale for choosing this feature in the cell below.***"
   ]
  },
  {
   "cell_type": "markdown",
   "metadata": {},
   "source": [
    "I chose *Grain area* (`'ga'`) as the feature to use throughout this set of problems, since this feature looks linear (as though a line could be drawn through it). Linear data is the best fit for linear models!"
   ]
  },
  {
   "cell_type": "markdown",
   "metadata": {},
   "source": [
    "### 5. Train-Test Splits with `sklearn`"
   ]
  },
  {
   "cell_type": "markdown",
   "metadata": {},
   "source": [
    "Train-test splitting is a fundamental practice in machine learning. When fitting a model, we'd to divide our data into separate training and testing sets in order to fairly evaluate how our model performs. We will use `sklearn`'s built-in module called `train_test_split` to split our data."
   ]
  },
  {
   "cell_type": "markdown",
   "metadata": {},
   "source": [
    "#### 5.a. Understanding train-test splits\n",
    "First, use `train_test_split` to split the following random array of samples into training and testing sets. *Refer to the documentation [here](https://scikit-learn.org/stable/modules/generated/sklearn.model_selection.train_test_split.html) to better understand how this method is used.* Observe the sizes of the resulting datasets, and which samples were placed where."
   ]
  },
  {
   "cell_type": "code",
   "execution_count": 4,
   "metadata": {},
   "outputs": [
    {
     "name": "stdout",
     "output_type": "stream",
     "text": [
      "X:\n",
      "[[ 0  1]\n",
      " [ 2  3]\n",
      " [ 4  5]\n",
      " [ 6  7]\n",
      " [ 8  9]\n",
      " [10 11]\n",
      " [12 13]\n",
      " [14 15]\n",
      " [16 17]\n",
      " [18 19]\n",
      " [20 21]\n",
      " [22 23]\n",
      " [24 25]\n",
      " [26 27]\n",
      " [28 29]\n",
      " [30 31]\n",
      " [32 33]\n",
      " [34 35]\n",
      " [36 37]\n",
      " [38 39]]\n",
      "Shape of X:\n",
      "(20, 2)\n",
      "y:\n",
      "[0, 1, 2, 3, 4, 5, 6, 7, 8, 9, 10, 11, 12, 13, 14, 15, 16, 17, 18, 19]\n",
      "Shape of y:\n",
      "20\n"
     ]
    }
   ],
   "source": [
    "import numpy as np\n",
    "from sklearn.model_selection import train_test_split\n",
    "\n",
    "# Creating a random array of 20 samples with 2 features each (X), and 20 corresponding labels (y)\n",
    "X, y = np.arange(40).reshape((20, 2)), [*range(20)]\n",
    "\n",
    "print(\"X:\")\n",
    "print(X)\n",
    "print(\"Shape of X:\")\n",
    "print(X.shape)\n",
    "\n",
    "print(\"y:\")\n",
    "print(y)\n",
    "print(\"Shape of y:\")\n",
    "print(len(y))"
   ]
  },
  {
   "cell_type": "code",
   "execution_count": 5,
   "metadata": {},
   "outputs": [
    {
     "name": "stdout",
     "output_type": "stream",
     "text": [
      "X_train:\n",
      "[[16 17]\n",
      " [10 11]\n",
      " [22 23]\n",
      " [ 6  7]\n",
      " [36 37]\n",
      " [32 33]\n",
      " [26 27]\n",
      " [ 4  5]\n",
      " [18 19]\n",
      " [38 39]\n",
      " [ 8  9]\n",
      " [24 25]\n",
      " [14 15]\n",
      " [20 21]\n",
      " [28 29]\n",
      " [12 13]]\n",
      "Shape of X_train:\n",
      "(16, 2)\n",
      "y_train:\n",
      "[8, 5, 11, 3, 18, 16, 13, 2, 9, 19, 4, 12, 7, 10, 14, 6]\n",
      "Shape of y_train:\n",
      "16\n",
      "X_test:\n",
      "[[ 0  1]\n",
      " [34 35]\n",
      " [30 31]\n",
      " [ 2  3]]\n",
      "Shape of X_test:\n",
      "(4, 2)\n",
      "y_test:\n",
      "[0, 17, 15, 1]\n",
      "Shape of y_test:\n",
      "4\n"
     ]
    }
   ],
   "source": [
    "### ADD CODE HERE:\n",
    "### Use train_test_split to split the data into training and testing sets.\n",
    "### (Note: 20% of the total data amount is a typical size for the test set.)\n",
    "### Print out the resulting data splits and their sizes, following how they were printed above.\n",
    "X_train, X_test, y_train, y_test = train_test_split(X, y, test_size=0.2, random_state=42)\n",
    "\n",
    "print(\"X_train:\")\n",
    "print(X_train)\n",
    "print(\"Shape of X_train:\")\n",
    "print(X_train.shape)\n",
    "\n",
    "print(\"y_train:\")\n",
    "print(y_train)\n",
    "print(\"Shape of y_train:\")\n",
    "print(len(y_train))\n",
    "\n",
    "print(\"X_test:\")\n",
    "print(X_test)\n",
    "print(\"Shape of X_test:\")\n",
    "print(X_test.shape)\n",
    "\n",
    "print(\"y_test:\")\n",
    "print(y_test)\n",
    "print(\"Shape of y_test:\")\n",
    "print(len(y_test))"
   ]
  },
  {
   "cell_type": "markdown",
   "metadata": {},
   "source": [
    "#### 5.b. Splitting our rock data into training and testing sets"
   ]
  },
  {
   "cell_type": "markdown",
   "metadata": {},
   "source": [
    "Use the same process to split our rock features and corresponding targets. Again, observe the sizes and samples of the resulting training and testing sets. (Note that our dataset only has one feature.)"
   ]
  },
  {
   "cell_type": "code",
   "execution_count": 6,
   "metadata": {},
   "outputs": [
    {
     "name": "stdout",
     "output_type": "stream",
     "text": [
      "X_train:\n",
      "[[ 660.2]\n",
      " [1194. ]\n",
      " [ 346.2]\n",
      " [ 754.4]\n",
      " [1451.5]\n",
      " [ 283.4]\n",
      " [1661.1]\n",
      " [ 314. ]\n",
      " [2122.6]\n",
      " [1133.5]\n",
      " [ 490.6]\n",
      " [ 379.9]\n",
      " [1133.5]\n",
      " [1519.8]\n",
      " [1451.5]\n",
      " [ 490.6]\n",
      " [1133.5]\n",
      " [ 452.2]\n",
      " [1193.9]\n",
      " [ 803.8]\n",
      " [2289.1]\n",
      " [ 254.3]\n",
      " [1163.8]\n",
      " [ 961.6]]\n",
      "Shape of X_train:\n",
      "(24, 1)\n",
      "y_train:\n",
      "[[112. ]\n",
      " [101. ]\n",
      " [111.7]\n",
      " [100.6]\n",
      " [ 94.5]\n",
      " [116.5]\n",
      " [ 91.5]\n",
      " [114. ]\n",
      " [ 92.9]\n",
      " [110. ]\n",
      " [112. ]\n",
      " [117.5]\n",
      " [ 94.4]\n",
      " [100.9]\n",
      " [105. ]\n",
      " [118. ]\n",
      " [103.9]\n",
      " [123. ]\n",
      " [100.2]\n",
      " [100. ]\n",
      " [ 78. ]\n",
      " [104.5]\n",
      " [110.2]\n",
      " [ 97.5]]\n",
      "Shape of y_train:\n",
      "24\n",
      "X_test:\n",
      "[[ 346.2]\n",
      " [ 226.9]\n",
      " [1017.3]\n",
      " [ 379.9]\n",
      " [ 803.8]\n",
      " [2462. ]]\n",
      "Shape of X_test:\n",
      "(6, 1)\n",
      "y_test:\n",
      "[[119. ]\n",
      " [118. ]\n",
      " [110. ]\n",
      " [115. ]\n",
      " [108.5]\n",
      " [ 87. ]]\n",
      "Shape of y_test:\n",
      "6\n"
     ]
    }
   ],
   "source": [
    "# Convert our pandas dataframes to numpy arrays\n",
    "rock_strength_features = np.asarray(rock_strength_features).reshape(-1,1)\n",
    "rock_strength_labels = np.asarray(rock_strength_labels).reshape(-1,1)\n",
    "\n",
    "### ADD CODE HERE:\n",
    "### Use train_test_split to split the data into training and testing sets. \n",
    "### (Note: 20% of the total data amount is a typical size for the test set.)\n",
    "### Print out the resulting data splits and their sizes, following how they were printed above.\n",
    "X_train, X_test, y_train, y_test = train_test_split(rock_strength_features, rock_strength_labels, test_size=0.2, random_state=42)\n",
    "\n",
    "print(\"X_train:\")\n",
    "print(X_train)\n",
    "print(\"Shape of X_train:\")\n",
    "print(X_train.shape)\n",
    "\n",
    "print(\"y_train:\")\n",
    "print(y_train)\n",
    "print(\"Shape of y_train:\")\n",
    "print(len(y_train))\n",
    "\n",
    "print(\"X_test:\")\n",
    "print(X_test)\n",
    "print(\"Shape of X_test:\")\n",
    "print(X_test.shape)\n",
    "\n",
    "print(\"y_test:\")\n",
    "print(y_test)\n",
    "print(\"Shape of y_test:\")\n",
    "print(len(y_test))"
   ]
  },
  {
   "cell_type": "markdown",
   "metadata": {},
   "source": [
    "### 6. Linear Regression\n",
    "Now, we'll fit a linear regression model to our data using `sklearn`'s built-in linear regression method. We will also test the model with our test data, and see how it performs."
   ]
  },
  {
   "cell_type": "markdown",
   "metadata": {},
   "source": [
    "#### 6.a. Fit the linear regression model with our rock data\n",
    "Use `sklearn`'s built-in linear regression method to fit a model using the training data you got as a result of problem 6. *Refer to the documentation [here](https://scikit-learn.org/stable/modules/generated/sklearn.linear_model.LinearRegression.html) to better understand how this method is used.*"
   ]
  },
  {
   "cell_type": "code",
   "execution_count": 7,
   "metadata": {},
   "outputs": [
    {
     "name": "stderr",
     "output_type": "stream",
     "text": [
      "/Library/Frameworks/Python.framework/Versions/3.7/lib/python3.7/site-packages/sklearn/linear_model/_base.py:569: RuntimeWarning: internal gelsd driver lwork query error, required iwork dimension not returned. This is likely the result of LAPACK bug 0038, fixed in LAPACK 3.2.2 (released July 21, 2010). Falling back to 'gelss' driver.\n",
      "  linalg.lstsq(X, y)\n"
     ]
    }
   ],
   "source": [
    "from sklearn.linear_model import LinearRegression\n",
    "\n",
    "### ADD CODE HERE:\n",
    "### Use the LinearRegression() method to fit a model using the training data.\n",
    "reg = LinearRegression().fit(X_train, y_train)\n",
    "###"
   ]
  },
  {
   "cell_type": "markdown",
   "metadata": {},
   "source": [
    "#### 6.b. Plot the data against the model\n",
    "Use `matplotlib` to visualize the fit of the model alongside the rock feature data. You will need to extract the parameters of the model, the coefficient $w$ and the intercept $b$, to do this."
   ]
  },
  {
   "cell_type": "code",
   "execution_count": 8,
   "metadata": {},
   "outputs": [
    {
     "data": {
      "image/png": "[encoded data removed]",
      "text/plain": [
       "<Figure size 1440x360 with 1 Axes>"
      ]
     },
     "metadata": {
      "needs_background": "light"
     },
     "output_type": "display_data"
    }
   ],
   "source": [
    "### ADD CODE HERE:\n",
    "### Extract the coefficient of the model, w\n",
    "### Extract the intercept of the model, b\n",
    "w = reg.coef_[0]\n",
    "b = reg.intercept_\n",
    "###\n",
    "\n",
    "# Create plot figure\n",
    "plt.figure(figsize=(20, 5))\n",
    "### ADD CODE HERE:\n",
    "### Use plt.plot() to plot the model curve\n",
    "### Use plt.scatter() to plot the original feature data\n",
    "plt.plot(X_train, X_train * w + b)                        # plot the model\n",
    "plt.scatter(rock_strength_features, rock_strength_labels) # plot the features\n",
    "###\n",
    "plt.title(\"OLS fit\")\n",
    "plt.xlabel(\"feature name\")\n",
    "plt.ylabel(\"UCS\")\n",
    "plt.show()"
   ]
  },
  {
   "cell_type": "markdown",
   "metadata": {},
   "source": [
    "#### 6.c. Plot the true UCS values against our estimated values\n",
    "Let's see how well our model performs! Plot the model's estimates of UCS on our test data from problem 5 alongside the real values. Include the model fit as well for clarity."
   ]
  },
  {
   "cell_type": "code",
   "execution_count": 9,
   "metadata": {},
   "outputs": [
    {
     "data": {
      "image/png": "[encoded data removed]",
      "text/plain": [
       "<Figure size 1440x360 with 1 Axes>"
      ]
     },
     "metadata": {
      "needs_background": "light"
     },
     "output_type": "display_data"
    }
   ],
   "source": [
    "plt.figure(figsize=(20, 5))\n",
    "### ADD CODE HERE:\n",
    "### Use plt.plot() to plot the model curve\n",
    "### Use plt.scatter() to plot the test data and corresponding values estimated by our model\n",
    "### Use plt.scatter() to plot the test data and corresponding target values\n",
    "plt.plot(X_train, X_train * w + b)       # plot the model\n",
    "plt.scatter(X_test, reg.predict(X_test)) # plot predictions\n",
    "plt.scatter(X_test, y_test)              # plot true values\n",
    "###\n",
    "plt.title(\"OLS fit\")\n",
    "plt.xlabel(\"feature name\")\n",
    "plt.ylabel(\"UCS\")\n",
    "plt.show()"
   ]
  },
  {
   "cell_type": "markdown",
   "metadata": {},
   "source": [
    "**Data reference:**\n",
    "\n",
    "E. Ali, W. Guang, A. Ibrahim (2014). \"Empirical Relations Between Compressive Strength and Microfabric Properties of Amphibolites Using Multivariate Regression, Fuzzy Inference, and Neural Networks: A Comparative Study,\" Engineering Geology, Vol. 183, pp. 230-240."
   ]
  }
 ],
 "metadata": {
  "kernelspec": {
   "display_name": "Python 3",
   "language": "python",
   "name": "python3"
  },
  "language_info": {
   "codemirror_mode": {
    "name": "ipython",
    "version": 3
   },
   "file_extension": ".py",
   "mimetype": "text/x-python",
   "name": "python",
   "nbconvert_exporter": "python",
   "pygments_lexer": "ipython3",
   "version": "3.7.4"
  }
 },
 "nbformat": 4,
 "nbformat_minor": 4
}
