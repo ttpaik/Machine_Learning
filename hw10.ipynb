{
  "nbformat": 4,
  "nbformat_minor": 0,
  "metadata": {
    "colab": {
      "name": "EC414_HW10_Solutions.ipynb",
      "provenance": [],
      "collapsed_sections": [],
      "toc_visible": true
    },
    "kernelspec": {
      "name": "python3",
      "display_name": "Python 3"
    },
    "language_info": {
      "name": "python"
    }
  },
  "cells": [
    {
      "cell_type": "markdown",
      "metadata": {
        "id": "FA3HgvMuLFa_"
      },
      "source": [
        "# Homework 10: Neural Networks\n",
        "by Yousif Khaireddin\n",
        "\n",
        "**Due date**: April 28, Wednesday by 11:59pm\n"
      ]
    },
    {
      "cell_type": "markdown",
      "metadata": {
        "id": "3lGwvIL2LWPq"
      },
      "source": [
        "## Setup"
      ]
    },
    {
      "cell_type": "markdown",
      "metadata": {
        "id": "aJca6HvbLYYA"
      },
      "source": [
        "To run and solve this assignment, you must have access to a working Jupyter Notebook installation. We recommend Google Colab. If you are already familiar with Jupyter and have your own installation, you may use it; however, you will have to tweak Colab-specific commands we've entered here (for example, file uploads).\n",
        "\n",
        "To use Google Colab:\n",
        "\n",
        "1. Download this `ipynb` file.\n",
        "2. Navigate to https://colab.research.google.com/ and select `Upload` in the pop-up window.\n",
        "3. Upload this file. It will then open in Colab.\n",
        "\n",
        "The below statements assume that you have already followed these instructions. If you need help with Python syntax, NumPy, or Matplotlib, you might find Week 1 discussion material useful.\n",
        "\n",
        "To run code in a cell or to render Markdown+LaTeX press Ctrl+Enter or \"`Run`\" button above. To edit any code or text cell, double-click on its content. Put your solution into boxes marked with **`[double click here to add a solution]`** and press Ctrl+Enter to render text. You can add cells via `+` sign at the top left corner.\n",
        "\n",
        "**Submission instructions**: please upload your completed solution file as well as a scan of any handwritten answers to Gradescope by **April 28th at midnight**.."
      ]
    },
    {
      "cell_type": "markdown",
      "metadata": {
        "id": "21L6Ct-yWkzB"
      },
      "source": [
        "## **Question 1:** Useful Functions and Setup\n"
      ]
    },
    {
      "cell_type": "code",
      "metadata": {
        "id": "GmPYFTaHWjqG"
      },
      "source": [
        "import torch\n",
        "import torchvision\n",
        "from torchvision import transforms, datasets\n",
        "import torch.nn as nn\n",
        "import torch.nn.functional as F\n",
        "import torch.optim as optim\n",
        "from matplotlib import pyplot as plt\n",
        "\n",
        "device = torch.device(\"cuda:0\" if torch.cuda.is_available() else \"cpu\")"
      ],
      "execution_count": null,
      "outputs": []
    },
    {
      "cell_type": "markdown",
      "metadata": {
        "id": "qOKHdi56W9ba"
      },
      "source": [
        "### Loading Dataset"
      ]
    },
    {
      "cell_type": "markdown",
      "metadata": {
        "id": "QTJuvHbtXGam"
      },
      "source": [
        "Using the datasets module within torchvision, download the MNIST dataset.\n",
        "1. Download both the training dataset as well as the testing dataset.\n",
        "2. Using _torch.utils.data.random_split_ seperate the training dataset into 50000 training samples and 10000 validation samples "
      ]
    },
    {
      "cell_type": "code",
      "metadata": {
        "id": "sy0TPPOIW0NV"
      },
      "source": [
        "# Training and validation data\n",
        "train_dataset = datasets.MNIST(\"\", train=True, download=True, transform=transforms.Compose([transforms.ToTensor()]))\n",
        "train_dataset, val_dataset = torch.utils.data.random_split(train_dataset, [50000, 10000])\n",
        "\n",
        "# Testing data\n",
        "test_dataset = datasets.MNIST(\"\", train=False, download=True, transform=transforms.Compose([transforms.ToTensor()]))"
      ],
      "execution_count": null,
      "outputs": []
    },
    {
      "cell_type": "code",
      "metadata": {
        "colab": {
          "base_uri": "https://localhost:8080/"
        },
        "id": "UHpxRhffW2S0",
        "outputId": "e9e2bfc9-d406-4672-ab5b-f8650f22733a"
      },
      "source": [
        "print(\"Number of Training Samples:\", len(train_dataset), sep='\\t')\n",
        "print(\"Number of Validation Samples:\", len(val_dataset), sep='\\t')\n",
        "print(\"Number of Testing Samples:\", len(test_dataset), sep='\\t')"
      ],
      "execution_count": null,
      "outputs": [
        {
          "output_type": "stream",
          "text": [
            "Number of Training Samples:\t50000\n",
            "Number of Validation Samples:\t10000\n",
            "Number of Testing Samples:\t10000\n"
          ],
          "name": "stdout"
        }
      ]
    },
    {
      "cell_type": "markdown",
      "metadata": {
        "id": "bbdb_rMIXtnl"
      },
      "source": [
        "Build your dataloaders using the datasets above. Make sure to use a batchsize of 64 and to shuffle your dataset."
      ]
    },
    {
      "cell_type": "code",
      "metadata": {
        "colab": {
          "base_uri": "https://localhost:8080/"
        },
        "id": "BBb-AgXILscc",
        "outputId": "35638eed-ce41-49be-8430-cd9ed7d12492"
      },
      "source": [
        "# Creating Dataloaders\n",
        "trainloader = torch.utils.data.DataLoader(train_dataset, batch_size=64, shuffle=True)\n",
        "valloader = torch.utils.data.DataLoader(val_dataset, 64)\n",
        "testloader = torch.utils.data.DataLoader(test_dataset, 64)\n",
        "\n",
        "print(\"Number of Training Batches:\", len(trainloader), sep='\\t')\n",
        "print(\"Number of Validation Batches:\", len(valloader), sep='\\t')\n",
        "print(\"Number of Testing Batches:\", len(testloader), sep='\\t')"
      ],
      "execution_count": null,
      "outputs": [
        {
          "output_type": "stream",
          "text": [
            "Number of Training Batches:\t782\n",
            "Number of Validation Batches:\t157\n",
            "Number of Testing Batches:\t157\n"
          ],
          "name": "stdout"
        }
      ]
    },
    {
      "cell_type": "markdown",
      "metadata": {
        "id": "i7wz8deJX--T"
      },
      "source": [
        "### Important functions"
      ]
    },
    {
      "cell_type": "markdown",
      "metadata": {
        "id": "uAOkWQCHYBo6"
      },
      "source": [
        "Complete the function `train(net, dataloader, criterion, optimizer)` which will train a given network for 1 whole epoch using a given dataloader.\n",
        "\n",
        "This function will iterate through the dataloader, compute the network outputs, the loss, backpropagage to update the networks weights, and return the accuracy and average loss across the dataloader\n",
        "\n",
        "Ensure to setup the network in training mode using the .train() attribute built by pytorch."
      ]
    },
    {
      "cell_type": "code",
      "metadata": {
        "id": "Hn5dfDohL_Yr"
      },
      "source": [
        "def train(net, dataloader, criterion, optimizer):\n",
        "    net = net.train()\n",
        "    loss_tr, correct_count, n_samples = 0.0, 0.0, 0.0\n",
        "    \n",
        "    for i, data in enumerate(dataloader):\n",
        "        inputs, labels = data\n",
        "        inputs, labels = inputs.to(device), labels.to(device)\n",
        "\n",
        "        # zero the parameter gradients\n",
        "        optimizer.zero_grad()\n",
        "\n",
        "        # forward + backward + optimize\n",
        "        outputs = net(inputs)\n",
        "        loss = criterion(outputs, labels)\n",
        "        loss.backward()\n",
        "        optimizer.step()\n",
        "\n",
        "        # store / calculate performance metrics (acc, loss)\n",
        "        loss_tr += loss.item()\n",
        "\n",
        "        _, preds = torch.max(outputs.data, 1)\n",
        "        correct_count += (preds == labels).sum().item()\n",
        "        n_samples += labels.size(0)\n",
        "\n",
        "    acc = 100 * correct_count / n_samples\n",
        "    loss = loss_tr / n_samples\n",
        "\n",
        "    return acc, loss"
      ],
      "execution_count": null,
      "outputs": []
    },
    {
      "cell_type": "markdown",
      "metadata": {
        "id": "9w8IH2TgYtvA"
      },
      "source": [
        "Complete the function `evaluate(net, dataloader, criterion)` which will evauate a given network's performance across a given dataloader\n",
        "\n",
        "This function will iterate through the dataloader, compute the network outputs, the loss, and return the accuracy and average loss across the dataloader.\n",
        "\n",
        "Ensure to setup the network in validation mode using the .eval() attribute built by pytorch."
      ]
    },
    {
      "cell_type": "code",
      "metadata": {
        "id": "gmSATkk0MeyZ"
      },
      "source": [
        "def evaluate(net, dataloader, criterion):\n",
        "    net = net.eval()\n",
        "    loss_tr, correct_count, n_samples = 0.0, 0.0, 0.0\n",
        "    \n",
        "    for data in dataloader:\n",
        "        inputs, labels = data\n",
        "        inputs, labels = inputs.to(device), labels.to(device)\n",
        "\n",
        "        # compute network predictions\n",
        "        outputs = net(inputs)\n",
        "        \n",
        "        # calculate performance metrics (acc, loss)\n",
        "        loss = criterion(outputs, labels)\n",
        "        loss_tr += loss.item()\n",
        "\n",
        "        _, preds = torch.max(outputs.data, 1)\n",
        "        correct_count += (preds == labels).sum().item()\n",
        "        n_samples += labels.size(0)\n",
        "\n",
        "    acc = 100 * correct_count / n_samples\n",
        "    loss = loss_tr / n_samples\n",
        "\n",
        "    return acc, loss"
      ],
      "execution_count": null,
      "outputs": []
    },
    {
      "cell_type": "markdown",
      "metadata": {
        "id": "Y_3JbqJdljba"
      },
      "source": [
        "Complete the function `count_parameters(model)` which should count the number of trainable parameters in a network."
      ]
    },
    {
      "cell_type": "code",
      "metadata": {
        "id": "Vfjqm98wliyq"
      },
      "source": [
        "def count_parameters(model):\n",
        "    return sum(p.numel() for p in model.parameters() if p.requires_grad)"
      ],
      "execution_count": null,
      "outputs": []
    },
    {
      "cell_type": "markdown",
      "metadata": {
        "id": "sHTlqg-ynxuw"
      },
      "source": [
        "The following function will be used to create plots of your performance metrics.\n"
      ]
    },
    {
      "cell_type": "code",
      "metadata": {
        "id": "GLrYdvYcnj_w"
      },
      "source": [
        "def plot_metrics(train_acc, train_loss, val_acc, val_loss):\n",
        "    plt.figure()\n",
        "    plt.plot(train_acc, 'g', label='Training Acc')\n",
        "    plt.plot(val_acc, 'b', label='Validation Acc')\n",
        "    plt.title('Accuracy')\n",
        "    plt.xlabel('Epoch')\n",
        "    plt.ylabel('Acc')\n",
        "    plt.legend()\n",
        "    plt.grid()\n",
        "    plt.show()\n",
        "\n",
        "    plt.figure()\n",
        "    plt.plot(train_loss, 'g', label='Training Loss')\n",
        "    plt.plot(val_loss, 'b', label='Validation Loss')\n",
        "    plt.title('Loss')\n",
        "    plt.xlabel('Epoch')\n",
        "    plt.ylabel('Loss')\n",
        "    plt.legend()\n",
        "    plt.grid()\n",
        "    plt.show()"
      ],
      "execution_count": null,
      "outputs": []
    },
    {
      "cell_type": "markdown",
      "metadata": {
        "id": "KvMsX7ULLiZi"
      },
      "source": [
        "## **Question 2:** Dense Networks\n",
        "\n",
        "**Note:**\n",
        "In solving the following sections, it is possible very likely that your results do not match ours exactly. This is due to the randomization in initilizations. What is important is that they are within the margins we set when defining the problem. "
      ]
    },
    {
      "cell_type": "markdown",
      "metadata": {
        "id": "0QN0isnZalFE"
      },
      "source": [
        "### Initial Performance"
      ]
    },
    {
      "cell_type": "markdown",
      "metadata": {
        "id": "yAWgb_xhZL9p"
      },
      "source": [
        "Recall from the discussion session, we provided you with the following fully connected (dense) network.\n"
      ]
    },
    {
      "cell_type": "code",
      "metadata": {
        "colab": {
          "base_uri": "https://localhost:8080/"
        },
        "id": "jDORbAZ3Lycf",
        "outputId": "4e16343a-9ba8-4f04-b130-20e6110a5651"
      },
      "source": [
        "class Dense(nn.Module):\n",
        "    # What does your model contain\n",
        "    def __init__(self):\n",
        "        super().__init__()\n",
        "        self.fc1 = nn.Linear(28*28, 64)\n",
        "        self.fc2 = nn.Linear(64, 64)\n",
        "        self.fc3 = nn.Linear(64, 64)\n",
        "        self.fc4 = nn.Linear(64, 10)    # 10 classes\n",
        "    \n",
        "    # This is how data moves when passed to your model\n",
        "    def forward(self, x):\n",
        "        x = x.view(-1, 28*28)   # Flatten\n",
        "        x = F.relu(self.fc1(x)) # Pass through layers\n",
        "        x = F.relu(self.fc2(x))\n",
        "        x = F.relu(self.fc3(x))\n",
        "        x = F.log_softmax(self.fc4(x), dim=1)   # soft max \n",
        "        \n",
        "        return x\n",
        "\n",
        "dense = Dense().to(device)\n",
        "\n",
        "print(\"Model Architecture\")\n",
        "print(dense)\n",
        "print(\"Number of parameters:\", count_parameters(dense))"
      ],
      "execution_count": null,
      "outputs": [
        {
          "output_type": "stream",
          "text": [
            "Model Architecture\n",
            "Dense(\n",
            "  (fc1): Linear(in_features=784, out_features=64, bias=True)\n",
            "  (fc2): Linear(in_features=64, out_features=64, bias=True)\n",
            "  (fc3): Linear(in_features=64, out_features=64, bias=True)\n",
            "  (fc4): Linear(in_features=64, out_features=10, bias=True)\n",
            ")\n",
            "Number of parameters: 59210\n"
          ],
          "name": "stdout"
        }
      ]
    },
    {
      "cell_type": "markdown",
      "metadata": {
        "id": "xmhDgBUgZo1-"
      },
      "source": [
        "Complete the following code to train the network above for 3 epochs.\n",
        "1. For your optimizer, use stochatic gradient descent with a learning rate of 0.001\n",
        "2. For your criterion (loss function) use Cross Entropy Loss (the one built by pytorch)\n",
        "\n",
        "**Note:** We are expecting bad performance here using the above mentioned parameters."
      ]
    },
    {
      "cell_type": "code",
      "metadata": {
        "colab": {
          "base_uri": "https://localhost:8080/"
        },
        "id": "LSTiaq2BL1Qg",
        "outputId": "4261380d-4731-4a90-d46b-98f1fda6ba2e"
      },
      "source": [
        "optimizer = torch.optim.SGD(dense.parameters(), lr=0.001)\n",
        "criterion = nn.CrossEntropyLoss()\n",
        "\n",
        "train_acc, train_loss = [],[]\n",
        "val_acc, val_loss = [],[]\n",
        "\n",
        "print(\"Training on\", device)\n",
        "for epoch in range(3):\n",
        "    \n",
        "    acc_tr, loss_tr = train(dense, trainloader, criterion, optimizer)\n",
        "    train_loss.append(loss_tr)\n",
        "    train_acc.append(acc_tr)\n",
        "\n",
        "    acc_v, loss_v = evaluate(dense, valloader, criterion)\n",
        "    val_loss.append(loss_v)\n",
        "    val_acc.append(acc_v)\n",
        "\n",
        "    print('Epoch %2d' % (epoch + 1),\n",
        "            'Train Accuracy: %2.2f %%' % acc_tr,\n",
        "            'Val Accuracy: %2.2f' % acc_v,\n",
        "            sep='\\t\\t')"
      ],
      "execution_count": null,
      "outputs": [
        {
          "output_type": "stream",
          "text": [
            "Training on cuda:0\n",
            "Epoch  1\t\tTrain Accuracy: 9.79 %\t\tVal Accuracy: 9.49\n",
            "Epoch  2\t\tTrain Accuracy: 9.79 %\t\tVal Accuracy: 9.50\n",
            "Epoch  3\t\tTrain Accuracy: 9.83 %\t\tVal Accuracy: 9.54\n"
          ],
          "name": "stdout"
        }
      ]
    },
    {
      "cell_type": "markdown",
      "metadata": {
        "id": "ZVe0fMk4xohR"
      },
      "source": [
        "Plot your peroformance using `plot_metrics` then evaluate your performance on the testloader / testset"
      ]
    },
    {
      "cell_type": "code",
      "metadata": {
        "colab": {
          "base_uri": "https://localhost:8080/",
          "height": 591
        },
        "id": "-p36C6a9atGE",
        "outputId": "2db09cb5-b2fe-4ea1-84f8-71bd8a52269e"
      },
      "source": [
        "plot_metrics(train_acc, train_loss, val_acc, val_loss)\n",
        "\n",
        "acc_test, loss_test = evaluate(dense, testloader, criterion)\n",
        "print('Test Accuracy: %2.2f %%' % acc_test,\n",
        "        'Test Loss: %2.6f' % loss_test,\n",
        "        sep='\\t\\t')"
      ],
      "execution_count": null,
      "outputs": [
        {
          "output_type": "display_data",
          "data": {
            "image/png": "[encoded data removed]",
            "text/plain": [
              "<Figure size 432x288 with 1 Axes>"
            ]
          },
          "metadata": {
            "tags": [],
            "needs_background": "light"
          }
        },
        {
          "output_type": "display_data",
          "data": {
            "image/png": "[encoded data removed]",
            "text/plain": [
              "<Figure size 432x288 with 1 Axes>"
            ]
          },
          "metadata": {
            "tags": [],
            "needs_background": "light"
          }
        },
        {
          "output_type": "stream",
          "text": [
            "Test Accuracy: 10.74 %\t\tTest Loss: 0.036046\n"
          ],
          "name": "stdout"
        }
      ]
    },
    {
      "cell_type": "markdown",
      "metadata": {
        "id": "jtsiV2P7arfv"
      },
      "source": [
        "### Tuned Performance"
      ]
    },
    {
      "cell_type": "markdown",
      "metadata": {
        "id": "YPD5fh7TazWD"
      },
      "source": [
        "Vary any parameters you would like in the model's architecture (number of layers, hidden units, activation functions) or the training parameters (number of epochs, optimizer, learning rate, weight decay, momentum) to improve your initial performance.\n",
        "\n",
        "> Indented block\n",
        "\n",
        "\n",
        "\n",
        "**Notes and requirements:** \n",
        "- The minimum acceptable test accuracy is 90%\n",
        "- If you run your network multiple times it is possible to get very different results with each run. This is due to the random initializations.\n",
        "- You are required to note down 5 significant changes you have experimented with and explain how these changes impacted your performance and your understanding as to why this is the case.\n",
        "- Keep your best performing model / training method and create the same plots and testing performance from above. "
      ]
    },
    {
      "cell_type": "code",
      "metadata": {
        "colab": {
          "base_uri": "https://localhost:8080/"
        },
        "id": "XcembImnaxFl",
        "outputId": "be9a6bc2-c635-4686-8dff-9ecfad0c4da1"
      },
      "source": [
        "class TunedDense(nn.Module):\n",
        "    # What does your model contain\n",
        "    def __init__(self):\n",
        "        super().__init__()\n",
        "        self.fc1 = nn.Linear(28*28, 64)\n",
        "        self.fc2 = nn.Linear(64, 64)\n",
        "        self.fc3 = nn.Linear(64, 64)\n",
        "        self.fc4 = nn.Linear(64, 10)    # 10 classes\n",
        "    \n",
        "    # This is how data moves when passed to your model\n",
        "    def forward(self, x):\n",
        "        x = x.view(-1, 28*28)   # Flatten\n",
        "        x = F.relu(self.fc1(x)) # Pass through layers\n",
        "        x = F.relu(self.fc2(x))\n",
        "        x = F.relu(self.fc3(x))\n",
        "        x = F.log_softmax(self.fc4(x), dim=1)   # soft max \n",
        "        \n",
        "        return x\n",
        "\n",
        "tuned_dense = TunedDense().to(device)\n",
        "\n",
        "print(\"Model Architecture\")\n",
        "print(tuned_dense)\n",
        "print(\"Number of parameters:\", count_parameters(tuned_dense))"
      ],
      "execution_count": null,
      "outputs": [
        {
          "output_type": "stream",
          "text": [
            "Model Architecture\n",
            "TunedDense(\n",
            "  (fc1): Linear(in_features=784, out_features=64, bias=True)\n",
            "  (fc2): Linear(in_features=64, out_features=64, bias=True)\n",
            "  (fc3): Linear(in_features=64, out_features=64, bias=True)\n",
            "  (fc4): Linear(in_features=64, out_features=10, bias=True)\n",
            ")\n",
            "Number of parameters: 59210\n"
          ],
          "name": "stdout"
        }
      ]
    },
    {
      "cell_type": "code",
      "metadata": {
        "colab": {
          "base_uri": "https://localhost:8080/"
        },
        "id": "_Rsd082CbL0L",
        "outputId": "d0a3ed7d-7ee2-43ed-d95c-3237b2506c1a"
      },
      "source": [
        "optimizer = torch.optim.SGD(tuned_dense.parameters(), lr=0.001, momentum=0.9, weight_decay=0.0001)\n",
        "criterion = nn.CrossEntropyLoss()\n",
        "\n",
        "train_acc, train_loss = [],[]\n",
        "val_acc, val_loss = [],[]\n",
        "\n",
        "print(\"Training on\", device)\n",
        "for epoch in range(10):\n",
        "    \n",
        "    acc_tr, loss_tr = train(tuned_dense, trainloader, criterion, optimizer)\n",
        "    train_loss.append(loss_tr)\n",
        "    train_acc.append(acc_tr)\n",
        "\n",
        "    acc_v, loss_v = evaluate(tuned_dense, valloader, criterion)\n",
        "    val_loss.append(loss_v)\n",
        "    val_acc.append(acc_v)\n",
        "\n",
        "    print('Epoch %2d' % (epoch + 1),\n",
        "            'Train Accuracy: %2.2f %%' % acc_tr,\n",
        "            'Val Accuracy: %2.2f' % acc_v,\n",
        "            sep='\\t\\t')"
      ],
      "execution_count": null,
      "outputs": [
        {
          "output_type": "stream",
          "text": [
            "Training on cuda:0\n",
            "Epoch  1\t\tTrain Accuracy: 23.20 %\t\tVal Accuracy: 47.52\n",
            "Epoch  2\t\tTrain Accuracy: 60.86 %\t\tVal Accuracy: 77.85\n",
            "Epoch  3\t\tTrain Accuracy: 82.84 %\t\tVal Accuracy: 86.19\n",
            "Epoch  4\t\tTrain Accuracy: 87.36 %\t\tVal Accuracy: 88.00\n",
            "Epoch  5\t\tTrain Accuracy: 88.95 %\t\tVal Accuracy: 89.33\n",
            "Epoch  6\t\tTrain Accuracy: 90.04 %\t\tVal Accuracy: 90.13\n",
            "Epoch  7\t\tTrain Accuracy: 90.93 %\t\tVal Accuracy: 90.91\n",
            "Epoch  8\t\tTrain Accuracy: 91.58 %\t\tVal Accuracy: 91.52\n",
            "Epoch  9\t\tTrain Accuracy: 92.15 %\t\tVal Accuracy: 92.07\n",
            "Epoch 10\t\tTrain Accuracy: 92.73 %\t\tVal Accuracy: 92.61\n"
          ],
          "name": "stdout"
        }
      ]
    },
    {
      "cell_type": "markdown",
      "metadata": {
        "id": "cQ37S7OmxsfV"
      },
      "source": [
        "Plot your peroformance using `plot_metrics` then evaluate your performance on the testloader / testset"
      ]
    },
    {
      "cell_type": "code",
      "metadata": {
        "colab": {
          "base_uri": "https://localhost:8080/",
          "height": 591
        },
        "id": "ZtQcDxKKL5xV",
        "outputId": "84bf06e5-7b70-41cd-ea1c-2d71cd54ceaa"
      },
      "source": [
        "plot_metrics(train_acc, train_loss, val_acc, val_loss)\n",
        "\n",
        "acc_test, loss_test = evaluate(tuned_dense, testloader, criterion)\n",
        "print('Test Accuracy: %2.2f %%' % acc_test,\n",
        "        'Test Loss: %2.6f' % loss_test,\n",
        "        sep='\\t\\t')"
      ],
      "execution_count": null,
      "outputs": [
        {
          "output_type": "display_data",
          "data": {
            "image/png": "[encoded data removed]",
            "text/plain": [
              "<Figure size 432x288 with 1 Axes>"
            ]
          },
          "metadata": {
            "tags": [],
            "needs_background": "light"
          }
        },
        {
          "output_type": "display_data",
          "data": {
            "image/png": "[encoded data removed]",
            "text/plain": [
              "<Figure size 432x288 with 1 Axes>"
            ]
          },
          "metadata": {
            "tags": [],
            "needs_background": "light"
          }
        },
        {
          "output_type": "stream",
          "text": [
            "Test Accuracy: 92.86 %\t\tTest Loss: 0.003801\n"
          ],
          "name": "stdout"
        }
      ]
    },
    {
      "cell_type": "markdown",
      "metadata": {
        "id": "SuaDzZtAqsh5"
      },
      "source": [
        "**Experiementations and explainations:**\n",
        "\n",
        "**`[double click here to add a solution]`**\n"
      ]
    },
    {
      "cell_type": "markdown",
      "metadata": {
        "id": "ZvJTJwPfiJuh"
      },
      "source": [
        "## **Question 3:** Convolutional  Neural Networks\n",
        "\n"
      ]
    },
    {
      "cell_type": "markdown",
      "metadata": {
        "id": "vGNq6kO9t5dO"
      },
      "source": [
        "Using pytorch, build a 2d convolutional neural network with the following architecture.\n",
        "\n",
        "1. 2D Convolution mapping the 1 x L x W input to 64 feature maps\n",
        "2. 2D Convolution mapping the 64 x L x W features to 32 feature maps\n",
        "\n",
        "3. Flatten the output\n",
        "3. A dense layer mapping the flattened output to 16 nodes\n",
        "4. A final dense layer mapping the 16 nodes to 10 classes\n",
        "\n",
        "Each convolutional layer should be followed by a relu activation function then a 2D maxpool of `kernel_size` 2 and `stride` of 2\n",
        "\n",
        "Each dense layer should be followed by a relu activation"
      ]
    },
    {
      "cell_type": "code",
      "metadata": {
        "colab": {
          "base_uri": "https://localhost:8080/"
        },
        "id": "MEkXK7GWiqpB",
        "outputId": "cdd8ba8d-3fe4-4efb-f0bd-a8a995015c2b"
      },
      "source": [
        "class CNN(nn.Module):\n",
        "    def __init__(self):\n",
        "        super(CNN, self).__init__()\n",
        "        self.conv1 = nn.Conv2d(in_channels=1, out_channels=64, kernel_size=3, padding=1)\n",
        "        self.conv2 = nn.Conv2d(64, 32, 3, padding=1)\n",
        "        \n",
        "        self.pool = nn.MaxPool2d(kernel_size=2, stride=2)\n",
        "\n",
        "        self.lin1 = nn.Linear(32 * 7 * 7, 16)\n",
        "        self.lin2 = nn.Linear(16, 10)\n",
        "\n",
        "    def forward(self, x):\n",
        "        x = F.relu(self.conv1(x))\n",
        "        x = self.pool(x)\n",
        "        \n",
        "        x = F.relu(self.conv2(x))\n",
        "        x = self.pool(x)\n",
        "        \n",
        "        x = x.view(-1, 32 * 7 * 7)\n",
        "        \n",
        "        x = F.relu(self.lin1(x))\n",
        "        x = F.relu(self.lin2(x))\n",
        "        \n",
        "        return x\n",
        "\n",
        "cnn = CNN().to(device)\n",
        "\n",
        "print(\"Model Architecture\")\n",
        "print(cnn)\n",
        "print(\"Number of parameters:\", count_parameters(cnn))"
      ],
      "execution_count": null,
      "outputs": [
        {
          "output_type": "stream",
          "text": [
            "Model Architecture\n",
            "CNN(\n",
            "  (conv1): Conv2d(1, 64, kernel_size=(3, 3), stride=(1, 1), padding=(1, 1))\n",
            "  (conv2): Conv2d(64, 32, kernel_size=(3, 3), stride=(1, 1), padding=(1, 1))\n",
            "  (pool): MaxPool2d(kernel_size=2, stride=2, padding=0, dilation=1, ceil_mode=False)\n",
            "  (lin1): Linear(in_features=1568, out_features=16, bias=True)\n",
            "  (lin2): Linear(in_features=16, out_features=10, bias=True)\n",
            ")\n",
            "Number of parameters: 44378\n"
          ],
          "name": "stdout"
        }
      ]
    },
    {
      "cell_type": "markdown",
      "metadata": {
        "id": "NYYFhhQku67Z"
      },
      "source": [
        "Complete the following code to train the network above for 10 epochs.\n",
        "1. For your optimizer, use stochatic gradient descent (you may change this later if you would like)\n",
        "\n",
        "2. For your criterion (loss function) use Cross Entropy Loss (the one built by pytorch)\n",
        "\n",
        "**Notes and requirements:** \n",
        "- The minimum acceptable test accuracy is 90%\n",
        "- If you run your network multiple times it is possible to get very different results with each run. This is due to the random initializations.\n",
        "- You are welcome to experiment with the CNN architecture and anything else you want. You are required to experiment with different values for `learning_rate`, `momentum`, and `weight_decay` in your optimizer to improve your performance.\n",
        "- Note down your experimentations and explain how these changes impacted your performance and your understanding as to why this is the case.\n",
        "- Keep your best performing model / training method and create the same plots and testing performance as before."
      ]
    },
    {
      "cell_type": "code",
      "metadata": {
        "colab": {
          "base_uri": "https://localhost:8080/"
        },
        "id": "COL45w-MShn7",
        "outputId": "3baff700-79c0-447c-b588-22c6034ac986"
      },
      "source": [
        "class CNN(nn.Module):\n",
        "    def __init__(self):\n",
        "        super(CNN, self).__init__()\n",
        "        self.conv1 = nn.Conv2d(1, 8, 3)\n",
        "        self.conv2 = nn.Conv2d(8,16, 2)\n",
        "        self.bn1 = nn.BatchNorm2d(16)\n",
        "        self.conv3 = nn.Conv2d(16,32,2)\n",
        "        self.conv4 = nn.Conv2d(32,32,4,1,1)\n",
        "        self.bn2 = nn.BatchNorm2d(32, 1/(1<<17), 1/16)\n",
        "        \n",
        "        self.pool = nn.MaxPool2d(kernel_size=2, stride=2)\n",
        "        self.linSize = 32*4*4\n",
        "        self.lin1 = nn.Linear(self.linSize, 10)\n",
        "\n",
        "    def forward(self, x):\n",
        "        x = F.elu(self.conv1(x))\n",
        "        x = self.pool(x)\n",
        "        \n",
        "        x = self.conv2(x); x *= torch.sigmoid(x) # swish activation\n",
        "        x = self.pool(x)\n",
        "        x = self.bn1(x)\n",
        "        \n",
        "        x = self.conv3(x); x *= torch.sigmoid(x)\n",
        "        x = self.conv4(x); x *= torch.sigmoid(x)\n",
        "        x = self.bn2(x)\n",
        "        \n",
        "        x = x.view(-1, self.linSize)\n",
        "        x = self.lin1(x)\n",
        "        return x\n",
        "\n",
        "cnn = CNN().to(device)\n",
        "\n",
        "print(\"Model Architecture\")\n",
        "print(cnn)\n",
        "print(\"Number of parameters:\", count_parameters(cnn))"
      ],
      "execution_count": null,
      "outputs": [
        {
          "output_type": "stream",
          "text": [
            "Model Architecture\n",
            "CNN(\n",
            "  (conv1): Conv2d(1, 8, kernel_size=(3, 3), stride=(1, 1))\n",
            "  (conv2): Conv2d(8, 16, kernel_size=(2, 2), stride=(1, 1))\n",
            "  (bn1): BatchNorm2d(16, eps=1e-05, momentum=0.1, affine=True, track_running_stats=True)\n",
            "  (conv3): Conv2d(16, 32, kernel_size=(2, 2), stride=(1, 1))\n",
            "  (conv4): Conv2d(32, 32, kernel_size=(4, 4), stride=(1, 1), padding=(1, 1))\n",
            "  (bn2): BatchNorm2d(32, eps=7.62939453125e-06, momentum=0.0625, affine=True, track_running_stats=True)\n",
            "  (pool): MaxPool2d(kernel_size=2, stride=2, padding=0, dilation=1, ceil_mode=False)\n",
            "  (lin1): Linear(in_features=512, out_features=10, bias=True)\n",
            ")\n",
            "Number of parameters: 24330\n"
          ],
          "name": "stdout"
        }
      ]
    },
    {
      "cell_type": "code",
      "metadata": {
        "colab": {
          "base_uri": "https://localhost:8080/"
        },
        "id": "cP_KMvZFyBZl",
        "outputId": "08c75913-1972-4615-bf28-82fb96b8868d"
      },
      "source": [
        "optimizer = torch.optim.Adam(cnn.parameters(), 1/256, (3/4, .994), 1e-9, 1/(1<<13), True)\n",
        "scheduler = torch.optim.lr_scheduler.ReduceLROnPlateau(optimizer, 'min', 1/4, 1)\n",
        "criterion = nn.CrossEntropyLoss()\n",
        "\n",
        "train_acc, train_loss = [], []\n",
        "val_acc, val_loss = [], []\n",
        "\n",
        "print(\"Training on\", device)\n",
        "for epoch in range(10):\n",
        "    \n",
        "    acc_tr, loss_tr = train(cnn, trainloader, criterion, optimizer)\n",
        "    train_loss.append(loss_tr)\n",
        "    train_acc.append(acc_tr)\n",
        "\n",
        "    acc_v, loss_v = evaluate(cnn, valloader, criterion)\n",
        "    val_loss.append(loss_v)\n",
        "    val_acc.append(acc_v)\n",
        "\n",
        "    print('Epoch %2d' % (epoch + 1),\n",
        "            'Train Accuracy: %2.2f' % acc_tr,\n",
        "            'Val Accuracy: %2.2f' % acc_v,\n",
        "            'Val Loss: %1.6f' % loss_v,\n",
        "            sep='\\t')\n",
        "    scheduler.step(loss_v)"
      ],
      "execution_count": null,
      "outputs": [
        {
          "output_type": "stream",
          "text": [
            "Training on cuda:0\n",
            "Epoch  1\tTrain Accuracy: 96.80\tVal Accuracy: 98.74\tVal Loss: 0.000661\n",
            "Epoch  2\tTrain Accuracy: 98.72\tVal Accuracy: 98.76\tVal Loss: 0.000660\n",
            "Epoch  3\tTrain Accuracy: 99.21\tVal Accuracy: 98.86\tVal Loss: 0.000599\n",
            "Epoch  4\tTrain Accuracy: 99.43\tVal Accuracy: 98.64\tVal Loss: 0.000732\n",
            "Epoch  5\tTrain Accuracy: 99.57\tVal Accuracy: 99.08\tVal Loss: 0.000484\n",
            "Epoch  6\tTrain Accuracy: 99.69\tVal Accuracy: 98.91\tVal Loss: 0.000594\n",
            "Epoch  7\tTrain Accuracy: 99.74\tVal Accuracy: 99.10\tVal Loss: 0.000533\n",
            "Epoch  8\tTrain Accuracy: 99.94\tVal Accuracy: 99.18\tVal Loss: 0.000456\n",
            "Epoch  9\tTrain Accuracy: 99.97\tVal Accuracy: 99.20\tVal Loss: 0.000450\n",
            "Epoch 10\tTrain Accuracy: 99.98\tVal Accuracy: 99.22\tVal Loss: 0.000440\n"
          ],
          "name": "stdout"
        }
      ]
    },
    {
      "cell_type": "markdown",
      "metadata": {
        "id": "Qu3tryRuxmO4"
      },
      "source": [
        "Plot your peroformance using `plot_metrics` then evaluate your performance on the testloader / testset"
      ]
    },
    {
      "cell_type": "code",
      "metadata": {
        "colab": {
          "base_uri": "https://localhost:8080/",
          "height": 590
        },
        "id": "wBKVkt8mMIoz",
        "outputId": "7908557d-e059-44b6-b5a1-de95f009cb2f"
      },
      "source": [
        "plot_metrics(train_acc, train_loss, val_acc, val_loss)\n",
        "\n",
        "acc_test, loss_test = evaluate(cnn, testloader, criterion)\n",
        "print('Test Accuracy: %2.2f %%' % acc_test,\n",
        "        'Test Loss: %2.6f' % loss_test,\n",
        "        sep='\\t\\t')"
      ],
      "execution_count": null,
      "outputs": [
        {
          "output_type": "display_data",
          "data": {
            "image/png": "[encoded data removed]",
            "text/plain": [
              "<Figure size 432x288 with 1 Axes>"
            ]
          },
          "metadata": {
            "tags": [],
            "needs_background": "light"
          }
        },
        {
          "output_type": "display_data",
          "data": {
            "image/png": "[encoded data removed]",
            "text/plain": [
              "<Figure size 432x288 with 1 Axes>"
            ]
          },
          "metadata": {
            "tags": [],
            "needs_background": "light"
          }
        },
        {
          "output_type": "stream",
          "text": [
            "Test Accuracy: 99.42 %\t\tTest Loss: 0.000316\n"
          ],
          "name": "stdout"
        }
      ]
    },
    {
      "cell_type": "markdown",
      "metadata": {
        "id": "vLuI_jUTv1Cf"
      },
      "source": [
        "**Experiementations and explainations:**\n",
        "\n",
        "Two more layers of Conv2d were added, and the numbers of feature maps produced by the layers are tuned. The number of feature maps should capture more complexity and variety. ReLU activations were replaced by swish or ELU, which are similar to ReLU but are smooth and allow negative activations. Batch normalization layers were also added after two Conv2d layers, which should make things less varied from batch to batch and optimization easier. The optimizer was changed to Adam with tuned parameters. ReduceLROnPlateau learning rate scheduler was used, which reduces learning rate when validation loss does not decrease meaningfully."
      ]
    },
    {
      "cell_type": "markdown",
      "metadata": {
        "id": "H2qU-xmXrCod"
      },
      "source": [
        "## **Question 4:** Compare your results\n"
      ]
    },
    {
      "cell_type": "markdown",
      "metadata": {
        "id": "5FcfTx67rI3u"
      },
      "source": [
        "Compare the cnn and dense networks your have built in terms of performance, runtime, accuracy, and any other factors you think are note worthy."
      ]
    },
    {
      "cell_type": "markdown",
      "metadata": {
        "id": "_re4mYVIrb_e"
      },
      "source": [
        "**Answer:**\n",
        "\n",
        "**`[double click here to add a solution]`**\n"
      ]
    }
  ]
}